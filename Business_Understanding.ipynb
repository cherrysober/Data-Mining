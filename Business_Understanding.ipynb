{
  "nbformat": 4,
  "nbformat_minor": 0,
  "metadata": {
    "colab": {
      "provenance": [],
      "authorship_tag": "ABX9TyPk8WhX/Addu7F31Zz1Z7D3",
      "include_colab_link": true
    },
    "kernelspec": {
      "name": "python3",
      "display_name": "Python 3"
    },
    "language_info": {
      "name": "python"
    }
  },
  "cells": [
    {
      "cell_type": "markdown",
      "metadata": {
        "id": "view-in-github",
        "colab_type": "text"
      },
      "source": [
        "<a href=\"https://colab.research.google.com/github/cherrysober/Data-Mining/blob/main/Business_Understanding.ipynb\" target=\"_parent\"><img src=\"https://colab.research.google.com/assets/colab-badge.svg\" alt=\"Open In Colab\"/></a>"
      ]
    },
    {
      "cell_type": "markdown",
      "source": [
        "# **Analisis Pola Pembelian dan Preferensi Pelanggan Selama Black Friday**"
      ],
      "metadata": {
        "id": "rZ1cXlmQVzT3"
      }
    },
    {
      "cell_type": "markdown",
      "source": [
        "## Business Understanding\n",
        "\n",
        "### Business Objective\n",
        "\n",
        "Tujuan dari analisis dataset penjualan Black Friday adalah untuk mendapatkan wawasan yang mendalam tentang identitas konsumen serta perilaku pembelian konsumen selama periode penjualan ini. Untuk dapat dipahami lebih mendalam tentang preferensi dan kebiasaan pembelian pelanggan, sehingga dengan adanya analisis ini dapat meningkatkan efektivitas strategi pemasaran dan penjualan selama Black Friday.\n",
        "\n",
        "### Assess Situation\n",
        "\n",
        "Situasi keadaan yang mendasari analisis ini merupakan fenomena yang cukup penting dalam industri ritel, khususnya di Amerika Serikat, di mana Black Friday telah menjadi salah satu periode penjualan paling berkesan dan paling sibuk dalam setahun. Dengan semakin meningkatnya persaingan dan juga meningkatnya ekspektasi konsumen, pemahaman yang mendalam tentang perilaku pembelian selama Black Friday ini menjadi hal yang cukup penting untuk dianalisa.\n",
        "\n",
        "### Data Mining Goals\n",
        "\n",
        "Tujuan dari Data Mining pada dataset yang akan saya analisa ini adalah untuk mengidentifikasi pola pembelian yang signifikan, menganalisis faktor-faktor yang mempengaruhi keputusan pembelian selama Black Friday, dan memprediksi penjualan produk berdasarkan variabel seperti harga, promosi, dan fitur produk.\n",
        "\n",
        "### Project Plan\n",
        "\n",
        "Rencana proyek untuk menganalisis dataset ini dimulai dengan melakukan survey data transaksi penjualan selama Black Friday dari sumber yang terkait. Selanjutnya, melakukan eksplorasi data untuk memahami identitas pelanggan, kategori produk yang diminati, dan pola pembelian yang signifikan. Kemudian, model akan dibangun untuk memprediksi penjualan berdasarkan faktor-faktor yang relevan. Akhirnya, hasil analisis akan diinterpretasikan untuk memberikan wawasan yang berguna bagi strategi pemasaran dan penjualan selama Black Friday yang akan datang lagi."
      ],
      "metadata": {
        "id": "2ThpEDRPYecT"
      }
    }
  ]
}